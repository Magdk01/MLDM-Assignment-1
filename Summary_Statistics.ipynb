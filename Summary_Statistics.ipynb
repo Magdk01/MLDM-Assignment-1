{
 "cells": [
  {
   "cell_type": "code",
   "execution_count": 1,
   "metadata": {},
   "outputs": [],
   "source": [
    "import numpy as np\n",
    "import pandas as pd"
   ]
  },
  {
   "cell_type": "code",
   "execution_count": 2,
   "metadata": {},
   "outputs": [],
   "source": [
    "filename = 'glass.csv'\n",
    "dataset = pd.read_csv(filename)"
   ]
  },
  {
   "cell_type": "markdown",
   "metadata": {},
   "source": [
    "**Summary statistics of each attribute**"
   ]
  },
  {
   "cell_type": "code",
   "execution_count": 70,
   "metadata": {},
   "outputs": [],
   "source": [
    "means = dataset.mean(0)[1:-1]     # (emitting the mean of the id and the type)\n",
    "sd = dataset.std(0)[1:-1]         # (emitting the sd of the id and the type)\n",
    "Q1 = dataset.quantile(0.25)[1:-1] # (emitting the q1 of the id and the type)\n",
    "med = dataset.median(0)[1:-1]     # (emitting the median of the id and the type)\n",
    "Q3 = dataset.quantile(0.75)[1:-1] # (emitting the q3 of the id and the type)\n"
   ]
  },
  {
   "cell_type": "code",
   "execution_count": 88,
   "metadata": {},
   "outputs": [
    {
     "data": {
      "text/html": [
       "<div>\n",
       "<style scoped>\n",
       "    .dataframe tbody tr th:only-of-type {\n",
       "        vertical-align: middle;\n",
       "    }\n",
       "\n",
       "    .dataframe tbody tr th {\n",
       "        vertical-align: top;\n",
       "    }\n",
       "\n",
       "    .dataframe thead th {\n",
       "        text-align: right;\n",
       "    }\n",
       "</style>\n",
       "<table border=\"1\" class=\"dataframe\">\n",
       "  <thead>\n",
       "    <tr style=\"text-align: right;\">\n",
       "      <th></th>\n",
       "      <th>RI</th>\n",
       "      <th>Na</th>\n",
       "      <th>Mg</th>\n",
       "      <th>Al</th>\n",
       "      <th>Si</th>\n",
       "      <th>K</th>\n",
       "      <th>Ca</th>\n",
       "      <th>Ba</th>\n",
       "      <th>Fe</th>\n",
       "    </tr>\n",
       "  </thead>\n",
       "  <tbody>\n",
       "    <tr>\n",
       "      <th>Means</th>\n",
       "      <td>1.518365</td>\n",
       "      <td>13.407850</td>\n",
       "      <td>2.684533</td>\n",
       "      <td>1.444907</td>\n",
       "      <td>72.650935</td>\n",
       "      <td>0.497056</td>\n",
       "      <td>8.956963</td>\n",
       "      <td>0.175047</td>\n",
       "      <td>0.057009</td>\n",
       "    </tr>\n",
       "    <tr>\n",
       "      <th>Sd</th>\n",
       "      <td>0.003037</td>\n",
       "      <td>0.816604</td>\n",
       "      <td>1.442408</td>\n",
       "      <td>0.499270</td>\n",
       "      <td>0.774546</td>\n",
       "      <td>0.652192</td>\n",
       "      <td>1.423153</td>\n",
       "      <td>0.497219</td>\n",
       "      <td>0.097439</td>\n",
       "    </tr>\n",
       "    <tr>\n",
       "      <th>Q1</th>\n",
       "      <td>1.516522</td>\n",
       "      <td>12.907500</td>\n",
       "      <td>2.115000</td>\n",
       "      <td>1.190000</td>\n",
       "      <td>72.280000</td>\n",
       "      <td>0.122500</td>\n",
       "      <td>8.240000</td>\n",
       "      <td>0.000000</td>\n",
       "      <td>0.000000</td>\n",
       "    </tr>\n",
       "    <tr>\n",
       "      <th>Median</th>\n",
       "      <td>1.517680</td>\n",
       "      <td>13.300000</td>\n",
       "      <td>3.480000</td>\n",
       "      <td>1.360000</td>\n",
       "      <td>72.790000</td>\n",
       "      <td>0.555000</td>\n",
       "      <td>8.600000</td>\n",
       "      <td>0.000000</td>\n",
       "      <td>0.000000</td>\n",
       "    </tr>\n",
       "    <tr>\n",
       "      <th>Q3</th>\n",
       "      <td>1.519157</td>\n",
       "      <td>13.825000</td>\n",
       "      <td>3.600000</td>\n",
       "      <td>1.630000</td>\n",
       "      <td>73.087500</td>\n",
       "      <td>0.610000</td>\n",
       "      <td>9.172500</td>\n",
       "      <td>0.000000</td>\n",
       "      <td>0.100000</td>\n",
       "    </tr>\n",
       "  </tbody>\n",
       "</table>\n",
       "</div>"
      ],
      "text/plain": [
       "              RI         Na        Mg        Al         Si         K  \\\n",
       "Means   1.518365  13.407850  2.684533  1.444907  72.650935  0.497056   \n",
       "Sd      0.003037   0.816604  1.442408  0.499270   0.774546  0.652192   \n",
       "Q1      1.516522  12.907500  2.115000  1.190000  72.280000  0.122500   \n",
       "Median  1.517680  13.300000  3.480000  1.360000  72.790000  0.555000   \n",
       "Q3      1.519157  13.825000  3.600000  1.630000  73.087500  0.610000   \n",
       "\n",
       "              Ca        Ba        Fe  \n",
       "Means   8.956963  0.175047  0.057009  \n",
       "Sd      1.423153  0.497219  0.097439  \n",
       "Q1      8.240000  0.000000  0.000000  \n",
       "Median  8.600000  0.000000  0.000000  \n",
       "Q3      9.172500  0.000000  0.100000  "
      ]
     },
     "execution_count": 88,
     "metadata": {},
     "output_type": "execute_result"
    }
   ],
   "source": [
    "dfs = [means, sd, Q1, med, Q3]\n",
    "df = pd.concat(dfs, axis = 1)\n",
    "df.set_axis([\"Means\", \"Sd\", \"Q1\", \"Median\", \"Q3\"], inplace=True, axis=1)\n",
    "df.T"
   ]
  },
  {
   "cell_type": "code",
   "execution_count": 112,
   "metadata": {},
   "outputs": [
    {
     "name": "stdout",
     "output_type": "stream",
     "text": [
      "\\begin{tabular}{lrrrrrrrrr}\n",
      "\\toprule\n",
      " & RI & Na & Mg & Al & Si & K & Ca & Ba & Fe \\\\\n",
      "\\midrule\n",
      "Means & 1.518 & 13.408 & 2.685 & 1.445 & 72.651 & 0.497 & 8.957 & 0.175 & 0.057 \\\\\n",
      "Sd & 0.003 & 0.817 & 1.442 & 0.499 & 0.775 & 0.652 & 1.423 & 0.497 & 0.097 \\\\\n",
      "Q1 & 1.517 & 12.908 & 2.115 & 1.190 & 72.280 & 0.122 & 8.240 & 0.000 & 0.000 \\\\\n",
      "Median & 1.518 & 13.300 & 3.480 & 1.360 & 72.790 & 0.555 & 8.600 & 0.000 & 0.000 \\\\\n",
      "Q3 & 1.519 & 13.825 & 3.600 & 1.630 & 73.088 & 0.610 & 9.172 & 0.000 & 0.100 \\\\\n",
      "\\bottomrule\n",
      "\\end{tabular}\n",
      "\n"
     ]
    }
   ],
   "source": [
    "# kan vi lige snakke om hvor sejt det her er\n",
    "precision  = 3 #antal decimaler\n",
    "\n",
    "abe = df.T.style.format(precision = precision)\n",
    "print(abe.to_latex(hrules=True))\n",
    "\n"
   ]
  }
 ],
 "metadata": {
  "kernelspec": {
   "display_name": "Python 3.8.2 ('AndSem')",
   "language": "python",
   "name": "python3"
  },
  "language_info": {
   "codemirror_mode": {
    "name": "ipython",
    "version": 3
   },
   "file_extension": ".py",
   "mimetype": "text/x-python",
   "name": "python",
   "nbconvert_exporter": "python",
   "pygments_lexer": "ipython3",
   "version": "3.8.2"
  },
  "orig_nbformat": 4,
  "vscode": {
   "interpreter": {
    "hash": "d62badb4c3b216db4db7804bb7696037312a1bbdb2c7465cfb03cc785a825525"
   }
  }
 },
 "nbformat": 4,
 "nbformat_minor": 2
}
