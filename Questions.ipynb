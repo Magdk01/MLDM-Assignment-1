{
 "cells": [
  {
   "cell_type": "code",
   "execution_count": null,
   "metadata": {},
   "outputs": [],
   "source": []
  },
  {
   "cell_type": "markdown",
   "metadata": {},
   "source": [
    "Question 2"
   ]
  },
  {
   "cell_type": "code",
   "execution_count": 11,
   "metadata": {},
   "outputs": [
    {
     "name": "stdout",
     "output_type": "stream",
     "text": [
      "p = infiniity:\n",
      "7\n",
      "p =  3 :\n",
      "7.054004063162272\n",
      "p =  1 :\n",
      "9.0\n",
      "p =  4 :\n",
      "7.01163277797172\n"
     ]
    }
   ],
   "source": [
    "import numpy as np\n",
    "\n",
    "\n",
    "x14 = np.array([26, 0, 2, 0, 0, 0, 0])\n",
    "x18 = np.array([19, 0, 0, 0, 0, 0, 0])\n",
    "\n",
    "print(\"p = infiniity:\")\n",
    "print(max(x14 - x18))\n",
    "\n",
    "for p in [3,1,4]:\n",
    "    print(\"p = \", p, \":\")\n",
    "    print(np.sum((abs(x18 - x14))**p) **(1/p))\n",
    "\n",
    "\n",
    "\n",
    "\n",
    "\n"
   ]
  }
 ],
 "metadata": {
  "kernelspec": {
   "display_name": "Python 3.8.2 ('AndSem')",
   "language": "python",
   "name": "python3"
  },
  "language_info": {
   "codemirror_mode": {
    "name": "ipython",
    "version": 3
   },
   "file_extension": ".py",
   "mimetype": "text/x-python",
   "name": "python",
   "nbconvert_exporter": "python",
   "pygments_lexer": "ipython3",
   "version": "3.8.2"
  },
  "orig_nbformat": 4,
  "vscode": {
   "interpreter": {
    "hash": "d62badb4c3b216db4db7804bb7696037312a1bbdb2c7465cfb03cc785a825525"
   }
  }
 },
 "nbformat": 4,
 "nbformat_minor": 2
}
